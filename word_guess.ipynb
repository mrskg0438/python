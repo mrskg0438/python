{
  "cells": [
    {
      "cell_type": "code",
      "execution_count": null,
      "metadata": {
        "id": "4gvpaWRdImUN"
      },
      "outputs": [],
      "source": [
        "import random\n",
        "\n",
        "lives = 9\n",
        "\n",
        "words =  ['pizza', 'fairy', 'teeth', 'shirt',\n",
        "'otter', 'plane', 'sendwich', 'shirt', 'brush', 'fairy']\n",
        "\n",
        "difficulty = input('Choose difficulty (type 1, 2 or 3):\\n1 Easy\\n2 Normal\\n3 Hard\\n')\n",
        "difficulty = int(difficulty)\n",
        "\n",
        "if difficulty == 1:\n",
        "          lives = 12\n",
        "elif difficulty == 2:\n",
        "          lives = 9\n",
        "else:\n",
        "          lives = 6\n",
        "\n",
        "S_word = random.choice(words)\n",
        "\n",
        "heart_symbol = u'\\u2764'\n",
        "\n",
        "guessed_word_correctly = False\n",
        "\n",
        "clue = list()\n",
        "for i in  S_word:\n",
        "          clue.append('?')\n",
        "\n",
        "          \n",
        "\n",
        "def update_clue(guessed_latter, S_word, clue, u_letters):\n",
        "          index = 0\n",
        "          while index < len(S_word):\n",
        "                    if guessed_latter == S_word[index]:\n",
        "                              clue[index] = guessed_latter\n",
        "                              u_letters -= 1\n",
        "                    index += 1\n",
        "          return u_letters\n",
        "\n",
        "while lives > 0:\n",
        "          print(clue)\n",
        "          print('Lives Left: ' + heart_symbol * lives)\n",
        "          guess = input('Guess a letter or the whole word: ')\n",
        "          u_letters = len(S_word)\n",
        "          if guess == S_word:\n",
        "                    guessed_word_correctly = True\n",
        "                    break\n",
        "          if guess in S_word:\n",
        "                    u_letters = update_clue(guess, S_word, clue, u_letters)\n",
        "          else:\n",
        "                    print(\"Incorrect. You lose a life by 1\")\n",
        "                    \n",
        "                    lives -= 1\n",
        "          if u_letters == 0:\n",
        "                    guessed_word_correctly = True\n",
        "                    break\n",
        "           \n",
        "if guessed_word_correctly:\n",
        "          print(\"You won! The Secert Word Was: \" + S_word)\n",
        "else:\n",
        "          print(\"You Lose! The Secret Word Was: \" + S_word)"
      ]
    }
  ],
  "metadata": {
    "colab": {
      "provenance": []
    },
    "kernelspec": {
      "display_name": "Python 3",
      "name": "python3"
    },
    "language_info": {
      "name": "python"
    }
  },
  "nbformat": 4,
  "nbformat_minor": 0
}